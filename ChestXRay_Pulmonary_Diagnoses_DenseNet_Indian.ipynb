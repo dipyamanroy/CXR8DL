{
 "cells": [
  {
   "cell_type": "markdown",
   "metadata": {},
   "source": [
    "# Chest X Ray Pulmonary Diagnoses using DenseNet for Indian data\n",
    "## 4A Semester project, Mahindra University\n",
    "### Dipyaman Roy, Suchir R Punuru\n",
    "\n",
    "---"
   ]
  },
  {
   "cell_type": "markdown",
   "metadata": {},
   "source": [
    "## Imports"
   ]
  },
  {
   "cell_type": "code",
   "execution_count": null,
   "metadata": {},
   "outputs": [],
   "source": [
    "# Import necessary packages\n",
    "import keras\n",
    "from keras import backend as K\n",
    "import matplotlib.pyplot as plt\n",
    "%matplotlib inline\n",
    "import pandas as pd\n",
    "import numpy as np\n",
    "import cv2\n",
    "import sklearn\n",
    "import shap\n",
    "import os\n",
    "import seaborn as sns\n",
    "import time\n",
    "import pickle\n",
    "\n",
    "sns.set()\n",
    "\n",
    "# This sets a common size for all the figures we will draw.\n",
    "plt.rcParams['figure.figsize'] = [10, 7]"
   ]
  },
  {
   "cell_type": "markdown",
   "metadata": {},
   "source": [
    "## Data Exploration\n",
    "Getting familiarized with chest x-ray images taken from the public [ChestX-ray8 dataset](https://arxiv.org/abs/1705.02315). The following are using the images classified with methods outlined in [Holste et al. (2023)](https://arxiv.org/abs/2308.09180). "
   ]
  },
  {
   "cell_type": "code",
   "execution_count": null,
   "metadata": {},
   "outputs": [],
   "source": [
    "# Read csv file containing training data\n",
    "train_df = pd.read_csv(\"data/CXR8/PruneCXR/miccai2023_nih-cxr-lt_labels_train.csv\")\n",
    "valid_df = pd.read_csv(\"data/CXR8/PruneCXR/miccai2023_nih-cxr-lt_labels_val.csv\")\n",
    "test_df = pd.read_csv(\"data/CXR8/PruneCXR/miccai2023_nih-cxr-lt_labels_test.csv\")\n",
    "print(f'There are {train_df.shape[0]} rows and {train_df.shape[1]} columns in the train data frame')\n",
    "train_df.head()"
   ]
  },
  {
   "cell_type": "code",
   "execution_count": null,
   "metadata": {},
   "outputs": [],
   "source": [
    "print(f\"Train set: The total subject ids are {train_df['subj_id'].count()}, from those the unique ids are {train_df['subj_id'].value_counts().shape[0]} \")\n",
    "print(f\"Validation set: The total subject ids are {valid_df['subj_id'].count()}\")\n",
    "print(f\"Test set: The total subject ids are {test_df['subj_id'].count()}\")"
   ]
  },
  {
   "cell_type": "markdown",
   "metadata": {},
   "source": [
    "### Preventing Data Leakage\n",
    "It is worth noting that our dataset contains multiple images for each patient. This could be the case, for example, when a patient has taken multiple X-ray images at different times during their hospital visits. In our data splitting, we have ensured that the split is done on the patient level so that there is no data \"leakage\" between the train, validation, and test datasets."
   ]
  },
  {
   "cell_type": "markdown",
   "metadata": {},
   "source": [
    "def check_for_leakage(df1, df2, subj_col):\n",
    "    \"\"\"\n",
    "    Return True if there any subjects are in both df1 and df2.\n",
    "\n",
    "    Args:\n",
    "        df1 (dataframe): dataframe describing first dataset\n",
    "        df2 (dataframe): dataframe describing second dataset\n",
    "        subj_col (str): string name of column with subject IDs\n",
    "    \n",
    "    Returns:\n",
    "        leakage (bool): True if there is leakage, otherwise False\n",
    "    \"\"\"\n",
    "    \n",
    "    df1_subjects_unique = set(df1[subj_id])\n",
    "    df2_subjects_unique = set(df2[subj_id])\n",
    "    \n",
    "    subjects_in_both_groups = list(df1_subjects_unique.intersection(df2_subjects_unique))\n",
    "\n",
    "    # leakage contains true if there is subject overlap, otherwise false.\n",
    "    leakage = len(subjects_in_both_groups) > 0 \n",
    "        \n",
    "    return leakage"
   ]
  }
 ],
 "metadata": {
  "kernelspec": {
   "display_name": "Python 3",
   "language": "python",
   "name": "python3"
  },
  "language_info": {
   "name": "python",
   "version": "3.10.12"
  }
 },
 "nbformat": 4,
 "nbformat_minor": 2
}
